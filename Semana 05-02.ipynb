{
 "cells": [
  {
   "cell_type": "markdown",
   "id": "63f9b891",
   "metadata": {},
   "source": [
    "# Semana 05\n",
    "   Estudiante: Elias Samuel Talledo Vega"
   ]
  },
  {
   "cell_type": "markdown",
   "id": "4b67abcc",
   "metadata": {},
   "source": [
    "Temas:\n",
    "    1. Colecciones de Datos\n",
    "    2. Estructuras Decisivas\n",
    "    3. Clases y Objetos\n",
    "    4. Funciones"
   ]
  },
  {
   "cell_type": "markdown",
   "id": "e65c8f71",
   "metadata": {},
   "source": [
    "4. Funciones"
   ]
  },
  {
   "cell_type": "code",
   "execution_count": null,
   "id": "a031e064",
   "metadata": {},
   "outputs": [],
   "source": [
    "# tambien conocido como métodos\n",
    "# Tenemos 4 métodos:\n",
    "# - Métodos vacíos\n",
    "# - Métodos que reciben valores\n",
    "# - Métodos que devuelven un valor\n",
    "# - Métodos que reciben y devuelven valores"
   ]
  },
  {
   "cell_type": "code",
   "execution_count": 4,
   "id": "ce1d9902",
   "metadata": {},
   "outputs": [],
   "source": [
    "# 4.2. Métodos que reciben valores\n",
    "\n",
    "def factorial(numero):\n",
    "    fac=1\n",
    "    for i in range(1, numero+1):\n",
    "        fac*=i\n",
    "        # fac = fac*i\n",
    "    print(f\"El factorial es: {fac}\")"
   ]
  },
  {
   "cell_type": "code",
   "execution_count": 5,
   "id": "df6d88d7",
   "metadata": {},
   "outputs": [
    {
     "name": "stdout",
     "output_type": "stream",
     "text": [
      "Ingrese número: 3\n",
      "El factorial es: 6\n"
     ]
    }
   ],
   "source": [
    "numero = int(input(\"Ingrese número: \"))\n",
    "factorial(numero)"
   ]
  },
  {
   "cell_type": "code",
   "execution_count": 7,
   "id": "105235c7",
   "metadata": {},
   "outputs": [],
   "source": [
    "# 3.3. Métodos que devuelven valores\n",
    "def saludo2():\n",
    "    mensaje = \"Bienvenidos a LP3\"\n",
    "    return mensaje"
   ]
  },
  {
   "cell_type": "code",
   "execution_count": 8,
   "id": "a449dfdf",
   "metadata": {},
   "outputs": [
    {
     "name": "stdout",
     "output_type": "stream",
     "text": [
      "Bienvenidos a LP3\n"
     ]
    }
   ],
   "source": [
    "print(saludo2())"
   ]
  },
  {
   "cell_type": "code",
   "execution_count": 10,
   "id": "67de434c",
   "metadata": {},
   "outputs": [],
   "source": [
    "# 3.4. Métodos que reciben y devuelven valores\n",
    "def factorial2(numero):\n",
    "    fac = 1\n",
    "    for i in range(1,numero+1):\n",
    "        fac*=i\n",
    "        #fac=fac*i\n",
    "    return fac"
   ]
  },
  {
   "cell_type": "code",
   "execution_count": 11,
   "id": "676c7e21",
   "metadata": {},
   "outputs": [
    {
     "name": "stdout",
     "output_type": "stream",
     "text": [
      "Numero:5\n",
      "El factorial de 5 es 120\n"
     ]
    }
   ],
   "source": [
    "numero = int (input(\"Numero:\"))\n",
    "print(f\"El factorial de {numero} es {factorial2(numero)}\")"
   ]
  },
  {
   "cell_type": "code",
   "execution_count": 13,
   "id": "7d4ff79b",
   "metadata": {},
   "outputs": [],
   "source": [
    "#Otro ejemplo\n",
    "#Calcular IGV\n",
    "def obtenerigv(importe):\n",
    "    return importe*0.18"
   ]
  },
  {
   "cell_type": "code",
   "execution_count": 14,
   "id": "3bfb1f40",
   "metadata": {},
   "outputs": [
    {
     "data": {
      "text/plain": [
       "27.0"
      ]
     },
     "execution_count": 14,
     "metadata": {},
     "output_type": "execute_result"
    }
   ],
   "source": [
    "obtenerigv(150)"
   ]
  },
  {
   "cell_type": "code",
   "execution_count": 15,
   "id": "32c68d44",
   "metadata": {},
   "outputs": [
    {
     "data": {
      "text/plain": [
       "140"
      ]
     },
     "execution_count": 15,
     "metadata": {},
     "output_type": "execute_result"
    }
   ],
   "source": [
    "factorial2(5)+20"
   ]
  },
  {
   "cell_type": "code",
   "execution_count": null,
   "id": "0a25b580",
   "metadata": {},
   "outputs": [],
   "source": []
  }
 ],
 "metadata": {
  "kernelspec": {
   "display_name": "Python 3 (ipykernel)",
   "language": "python",
   "name": "python3"
  },
  "language_info": {
   "codemirror_mode": {
    "name": "ipython",
    "version": 3
   },
   "file_extension": ".py",
   "mimetype": "text/x-python",
   "name": "python",
   "nbconvert_exporter": "python",
   "pygments_lexer": "ipython3",
   "version": "3.9.13"
  }
 },
 "nbformat": 4,
 "nbformat_minor": 5
}

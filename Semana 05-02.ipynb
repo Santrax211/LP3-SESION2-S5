{
 "cells": [
  {
   "cell_type": "markdown",
   "id": "37af7baa",
   "metadata": {},
   "source": [
    "# Semana 05\n",
    "   Estudiante: Elias Samuel Talledo Vega"
   ]
  },
  {
   "cell_type": "markdown",
   "id": "b28e4d82",
   "metadata": {},
   "source": [
    "Temas:\n",
    "    1. Colecciones de Datos\n",
    "    2. Estructuras Decisivas\n",
    "    3. Clases y Objetos\n",
    "    4. Funciones"
   ]
  },
  {
   "cell_type": "markdown",
   "id": "2897bd4c",
   "metadata": {},
   "source": [
    "4. Funciones"
   ]
  },
  {
   "cell_type": "code",
   "execution_count": null,
   "id": "708e9e29",
   "metadata": {},
   "outputs": [],
   "source": [
    "# tambien conocido como métodos\n",
    "# Tenemos 4 métodos:\n",
    "# - Métodos vacíos\n",
    "# - Métodos que reciben valores\n",
    "# - Métodos que devuelven un valor\n",
    "# - Métodos que reciben y devuelven valores"
   ]
  },
  {
   "cell_type": "code",
   "execution_count": 4,
   "id": "ad80f059",
   "metadata": {},
   "outputs": [],
   "source": [
    "# 4.2. Métodos que reciben valores\n",
    "\n",
    "def factorial(numero):\n",
    "    fac=1\n",
    "    for i in range(1, numero+1):\n",
    "        fac*=i\n",
    "        # fac = fac*i\n",
    "    print(f\"El factorial es: {fac}\")"
   ]
  },
  {
   "cell_type": "code",
   "execution_count": 5,
   "id": "f17072a6",
   "metadata": {},
   "outputs": [
    {
     "name": "stdout",
     "output_type": "stream",
     "text": [
      "Ingrese número: 3\n",
      "El factorial es: 6\n"
     ]
    }
   ],
   "source": [
    "numero = int(input(\"Ingrese número: \"))\n",
    "factorial(numero)"
   ]
  },
  {
   "cell_type": "code",
   "execution_count": 7,
   "id": "203f8486",
   "metadata": {},
   "outputs": [],
   "source": [
    "# 3.3. Métodos que devuelven valores\n",
    "def saludo2():\n",
    "    mensaje = \"Bienvenidos a LP3\"\n",
    "    return mensaje"
   ]
  },
  {
   "cell_type": "code",
   "execution_count": 8,
   "id": "a104cfac",
   "metadata": {},
   "outputs": [
    {
     "name": "stdout",
     "output_type": "stream",
     "text": [
      "Bienvenidos a LP3\n"
     ]
    }
   ],
   "source": [
    "print(saludo2())"
   ]
  },
  {
   "cell_type": "code",
   "execution_count": 10,
   "id": "050e7dec",
   "metadata": {},
   "outputs": [],
   "source": [
    "# 3.4. Métodos que reciben y devuelven valores\n",
    "def factorial2(numero):\n",
    "    fac = 1\n",
    "    for i in range(1,numero+1):\n",
    "        fac*=i\n",
    "        #fac=fac*i\n",
    "    return fac"
   ]
  },
  {
   "cell_type": "code",
   "execution_count": 11,
   "id": "2513fd68",
   "metadata": {},
   "outputs": [
    {
     "name": "stdout",
     "output_type": "stream",
     "text": [
      "Numero:5\n",
      "El factorial de 5 es 120\n"
     ]
    }
   ],
   "source": [
    "numero = int (input(\"Numero:\"))\n",
    "print(f\"El factorial de {numero} es {factorial2(numero)}\")"
   ]
  },
  {
   "cell_type": "code",
   "execution_count": null,
   "id": "7ec070ae",
   "metadata": {},
   "outputs": [],
   "source": [
    "#Otro ejemplo\n",
    "#Calcular IGV\n",
    "def obtenerigv(importe):\n",
    "    return importe*0.18"
   ]
  },
  {
   "cell_type": "code",
   "execution_count": null,
   "id": "8807070f",
   "metadata": {},
   "outputs": [],
   "source": [
    "obtener"
   ]
  }
 ],
 "metadata": {
  "kernelspec": {
   "display_name": "Python 3 (ipykernel)",
   "language": "python",
   "name": "python3"
  },
  "language_info": {
   "codemirror_mode": {
    "name": "ipython",
    "version": 3
   },
   "file_extension": ".py",
   "mimetype": "text/x-python",
   "name": "python",
   "nbconvert_exporter": "python",
   "pygments_lexer": "ipython3",
   "version": "3.9.13"
  }
 },
 "nbformat": 4,
 "nbformat_minor": 5
}

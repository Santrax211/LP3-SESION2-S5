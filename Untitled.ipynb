{
 "cells": [
  {
   "cell_type": "markdown",
   "id": "a7ece5d7",
   "metadata": {},
   "source": [
    "# Semana 05\n",
    "   Estudiante: Elias Samuel Talledo Vega"
   ]
  },
  {
   "cell_type": "raw",
   "id": "8a71281f",
   "metadata": {},
   "source": [
    "Temas:\n",
    "    1. Colecciones de Datos\n",
    "    2. Estructuras Decisivas\n",
    "    3. Clases y Objetos\n",
    "    4. Funciones"
   ]
  },
  {
   "cell_type": "markdown",
   "id": "f37e6c7c",
   "metadata": {},
   "source": [
    "3. Clases y Objetos"
   ]
  },
  {
   "cell_type": "code",
   "execution_count": null,
   "id": "3e6e909b",
   "metadata": {},
   "outputs": [],
   "source": [
    "# Problema 01\n",
    "\n",
    "# Crear la siguiente clase:\n",
    "# - Clase: persona\n",
    "# - Atributo: nombre, apellido, fecha_nacimiento, dni"
   ]
  },
  {
   "cell_type": "code",
   "execution_count": 2,
   "id": "d8342866",
   "metadata": {},
   "outputs": [],
   "source": [
    "class Persona:\n",
    "    nombre = \"\"\n",
    "    apellidos = \"\"\n",
    "    dni = \"\"\n",
    "    talla = 0"
   ]
  },
  {
   "cell_type": "code",
   "execution_count": 3,
   "id": "447cc712",
   "metadata": {},
   "outputs": [],
   "source": [
    "# Creamos un objeto persona1 de la clase Persona()\n",
    "# y le asignamos valores\n",
    "\n",
    "# Creacion del objeto persona1\n",
    "persona1 = Persona()"
   ]
  },
  {
   "cell_type": "code",
   "execution_count": 6,
   "id": "a458985a",
   "metadata": {},
   "outputs": [],
   "source": [
    "# Asignamos valores al objeto\n",
    "persona1.nombre = \"Alexia\"\n",
    "persona1.apellido = \"Asunción Pomasonco\"\n",
    "persona1.dni = \"12345678\"\n",
    "persona1.talla = 1.7"
   ]
  },
  {
   "cell_type": "code",
   "execution_count": 7,
   "id": "9bef89d1",
   "metadata": {},
   "outputs": [
    {
     "name": "stdout",
     "output_type": "stream",
     "text": [
      "persona1\n",
      "Nombre: Alexia\n",
      "Apellidos: Asunción Pomasonco\n",
      "DNI: 12345678\n",
      "Talla: 1.7\n"
     ]
    }
   ],
   "source": [
    "# para mostrar valores del objeto\n",
    "print(\"persona1\")\n",
    "print(f\"Nombre: {persona1.nombre}\")\n",
    "print(f\"Apellidos: {persona1.apellido}\")\n",
    "print(f\"DNI: {persona1.dni}\")\n",
    "print(f\"Talla: {persona1.talla}\")"
   ]
  },
  {
   "cell_type": "code",
   "execution_count": null,
   "id": "3b12c82e",
   "metadata": {},
   "outputs": [],
   "source": [
    "# para utilizar constructores utilizamos= __init__\n",
    "# ¿Qué es un constructor?\n",
    "# - Es un método\n",
    "# - Sirve para inicializar valores a una clase"
   ]
  },
  {
   "cell_type": "code",
   "execution_count": null,
   "id": "158ca949",
   "metadata": {},
   "outputs": [],
   "source": [
    "# Problema 02:\n",
    "\n",
    "# Crear la siguiente clase y utilizar constructores:\n",
    "# - Clase: curso\n",
    "# - Atributos: codigo, nombre, horas, creditos"
   ]
  },
  {
   "cell_type": "code",
   "execution_count": 9,
   "id": "129d7b47",
   "metadata": {},
   "outputs": [],
   "source": [
    "# Solucion\n",
    "class curso:\n",
    "    def __init__(self, codigo, nombre, horas, creditos):\n",
    "        self.codigo = codigo\n",
    "        self.nombre = nombre\n",
    "        self.horas = horas\n",
    "        self.creditos = creditos\n",
    "    \n",
    "    def mostrar_datos_curso(self):\n",
    "        print(f\"Nombre del curso: {self.nombre}\")\n",
    "        print(f\"Codigo: {self.codigo}\")\n",
    "        print(f\"Horas: {self.horas}\")\n",
    "        print(f\"Creditos: {self.creditos}\")"
   ]
  },
  {
   "cell_type": "code",
   "execution_count": 10,
   "id": "fd3ddfe4",
   "metadata": {},
   "outputs": [],
   "source": [
    "# Creamos el objeto curso1 y le mandamos parámetros\n",
    "curso1 = curso(\"IS0603\",\"LP3\",6,3)"
   ]
  },
  {
   "cell_type": "code",
   "execution_count": 14,
   "id": "11095c5f",
   "metadata": {},
   "outputs": [
    {
     "name": "stdout",
     "output_type": "stream",
     "text": [
      "Nombre del curso: LP3\n",
      "Codigo: IS0603\n",
      "Horas: 6\n",
      "Creditos: 3\n"
     ]
    }
   ],
   "source": [
    "# Mostramos los datos completos del curso, ejecutando el metodo mostrar_datos_curso()\n",
    "curso1.mostrar_datos_curso()"
   ]
  },
  {
   "cell_type": "code",
   "execution_count": null,
   "id": "6180bec4",
   "metadata": {},
   "outputs": [],
   "source": []
  }
 ],
 "metadata": {
  "kernelspec": {
   "display_name": "Python 3 (ipykernel)",
   "language": "python",
   "name": "python3"
  },
  "language_info": {
   "codemirror_mode": {
    "name": "ipython",
    "version": 3
   },
   "file_extension": ".py",
   "mimetype": "text/x-python",
   "name": "python",
   "nbconvert_exporter": "python",
   "pygments_lexer": "ipython3",
   "version": "3.9.13"
  }
 },
 "nbformat": 4,
 "nbformat_minor": 5
}

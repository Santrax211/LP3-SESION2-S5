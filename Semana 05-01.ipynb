{
 "cells": [
  {
   "cell_type": "markdown",
   "id": "598aeeca",
   "metadata": {},
   "source": [
    "# Semana 05\n",
    "   Estudiante: Elias Samuel Talledo Vega"
   ]
  },
  {
   "cell_type": "markdown",
   "id": "e253378c",
   "metadata": {},
   "source": [
    "Temas:\n",
    "    1. Colecciones de Datos\n",
    "    2. Estructuras Decisivas\n",
    "    3. Clases y Objetos\n",
    "    4. Funciones"
   ]
  },
  {
   "cell_type": "markdown",
   "id": "aaadc499",
   "metadata": {},
   "source": [
    "2. Estructuras Decisivas"
   ]
  },
  {
   "cell_type": "code",
   "execution_count": null,
   "id": "1695b3ee",
   "metadata": {},
   "outputs": [],
   "source": [
    "# Estructuras decisivas (if,elf, else)"
   ]
  },
  {
   "cell_type": "code",
   "execution_count": null,
   "id": "53ca8661",
   "metadata": {},
   "outputs": [],
   "source": [
    "# if\n",
    "# Problema: Dado el precio de 3 productos ingresados por el teclado\n",
    "# aplicar un descuento del 10% si la venta es mayor o igual a 1000"
   ]
  },
  {
   "cell_type": "code",
   "execution_count": 3,
   "id": "bae532dc",
   "metadata": {},
   "outputs": [
    {
     "name": "stdout",
     "output_type": "stream",
     "text": [
      "Producto 1: 320\n",
      "Producto 2: 20\n",
      "Producto 3: 100\n",
      "El total a pagar es: 440.0\n"
     ]
    }
   ],
   "source": [
    "# Solucion\n",
    "P1 = float(input(\"Producto 1: \"))\n",
    "P2 = float(input(\"Producto 2: \"))\n",
    "P3 = float(input(\"Producto 3: \"))\n",
    "total = P1 + P2+ P3\n",
    "if total >= 1000:\n",
    "    total*=0.9\n",
    "print(f\"El total a pagar es: {total}\")"
   ]
  },
  {
   "cell_type": "code",
   "execution_count": null,
   "id": "3ef3b82c",
   "metadata": {},
   "outputs": [],
   "source": [
    "# if-else"
   ]
  },
  {
   "cell_type": "code",
   "execution_count": null,
   "id": "341758b3",
   "metadata": {},
   "outputs": [],
   "source": [
    "# Problema 01\n",
    "# Dado una lista de [ASUNCION, AYQUIPA, BARZOLA, CAMAN, CURO, INCA, SAHUMA, TALLEDO, URBISAGASTEGUI]\n",
    "# Diseñar un código que muestre si el apellido de un estudiante (Ingresado por teclado)\n",
    "# forma parte de la lista"
   ]
  },
  {
   "cell_type": "code",
   "execution_count": 6,
   "id": "7e056c85",
   "metadata": {},
   "outputs": [
    {
     "name": "stdout",
     "output_type": "stream",
     "text": [
      "Ingresa nombre a buscar: Talledo\n",
      "Si está en la lista de LP3\n"
     ]
    }
   ],
   "source": [
    "# Solucion\n",
    "LP3 = [\"ASUNCION\", \"AYQUIPA\", \"BARZOLA\", \"CAMAN\", \"CURO\", \"INCA\", \"SAHUMA\", \"TALLEDO\", \"URBISAGASTEGUI\"]\n",
    "apellido = input(\"Ingresa nombre a buscar: \")\n",
    "\n",
    "# Como los datos de la lista están en mayúscula, utilizo upper()\n",
    "if apellido.upper() in LP3:\n",
    "    print(\"Si está en la lista de LP3\")\n",
    "else:\n",
    "    print(\"No está en la lista de LP3\")"
   ]
  },
  {
   "cell_type": "code",
   "execution_count": null,
   "id": "338fc61a",
   "metadata": {},
   "outputs": [],
   "source": [
    "# Problema 02\n",
    "# Dado el importe total de ventas realizadas por un trabajador (ingresado por teclado)\n",
    "# categorizar que tipo de empleado es, considerado la siguiente tabla:\n",
    "\n",
    "# Categoria: A -> <0, 1000]\n",
    "# Categoria: B -> <1000, 2000]\n",
    "# Categoria: C -> <2000, 5000]\n",
    "# Categoria: D -> <5000, Mas]"
   ]
  },
  {
   "cell_type": "code",
   "execution_count": 11,
   "id": "21417857",
   "metadata": {},
   "outputs": [
    {
     "name": "stdout",
     "output_type": "stream",
     "text": [
      "Importe de ventas realizadas: 5200\n",
      "Categoria D\n"
     ]
    }
   ],
   "source": [
    "# Solucion\n",
    "ventas = float(input(\"Importe de ventas realizadas: \"))\n",
    "if ventas <0:\n",
    "    print(\"Datos erroneos\")\n",
    "else:\n",
    "    if ventas<=1000:\n",
    "        print(\"Categoria A\")\n",
    "    else:\n",
    "        if ventas<=2000:\n",
    "            print(\"Categoria B\")\n",
    "        else:\n",
    "            if ventas <=5000:\n",
    "                print(\"Categoria C\")\n",
    "            else:\n",
    "                print(\"Categoria D\")"
   ]
  },
  {
   "cell_type": "code",
   "execution_count": null,
   "id": "cd927745",
   "metadata": {},
   "outputs": [],
   "source": [
    "# ELIF\n",
    "# Problema 03: Solucionar el problema anterior utilizando elif\n",
    "\n",
    "# Dado el importe total de ventas realizadas por un trabajador (ingresado por teclado)\n",
    "# categorizar que tipo de empleado es, considerado la siguiente tabla:\n",
    "\n",
    "# Categoria: A -> <0, 1000]\n",
    "# Categoria: B -> <1000, 2000]\n",
    "# Categoria: C -> <2000, 5000]\n",
    "# Categoria: D -> <5000, Mas]"
   ]
  },
  {
   "cell_type": "code",
   "execution_count": 13,
   "id": "e19af2b5",
   "metadata": {},
   "outputs": [
    {
     "name": "stdout",
     "output_type": "stream",
     "text": [
      "Importe  de ventas realizadas: 3200\n",
      "Categoria C\n"
     ]
    }
   ],
   "source": [
    "#Solucion\n",
    "\n",
    "ventas = float(input(\"Importe  de ventas realizadas: \"))\n",
    "if ventas < 0:\n",
    "    print(\"Datos erroneos\")\n",
    "elif ventas<=1000:\n",
    "    print(\"Categoria A\")\n",
    "elif ventas<=2000:\n",
    "    print(\"Categoria B\")\n",
    "elif ventas<=5000:\n",
    "    print(\"Categoria C\")\n",
    "else:\n",
    "    print(\"Categoria D\")"
   ]
  },
  {
   "cell_type": "markdown",
   "id": "ef795222",
   "metadata": {},
   "source": [
    "2.2. Estructuras repetitivas"
   ]
  },
  {
   "cell_type": "code",
   "execution_count": null,
   "id": "11525a9b",
   "metadata": {},
   "outputs": [],
   "source": [
    "# Problema 01\n",
    "# Mostrar los elementos de una lista utilizando for"
   ]
  },
  {
   "cell_type": "code",
   "execution_count": 14,
   "id": "54318ff0",
   "metadata": {},
   "outputs": [
    {
     "name": "stdout",
     "output_type": "stream",
     "text": [
      "Inca\n",
      "Barzola\n",
      "Urbisagastegui\n",
      "Caman\n"
     ]
    }
   ],
   "source": [
    "# solucion\n",
    "aula = ['Inca','Barzola','Urbisagastegui','Caman']\n",
    "\n",
    "# Por cada alumno que está en la lista, imprimir alumno\n",
    "for alumno in aula:\n",
    "    print(alumno)"
   ]
  },
  {
   "cell_type": "code",
   "execution_count": null,
   "id": "1f129bcf",
   "metadata": {},
   "outputs": [],
   "source": [
    "# Problemaa 02\n",
    "# Dado una cadena ingresado por teclado, mostrar cada caracter de la cadena, utilizando el for"
   ]
  },
  {
   "cell_type": "code",
   "execution_count": 15,
   "id": "adc4fc50",
   "metadata": {},
   "outputs": [
    {
     "name": "stdout",
     "output_type": "stream",
     "text": [
      "Ingrese cadena: Yo soy Iron Man\n",
      "Y\n",
      "o\n",
      " \n",
      "s\n",
      "o\n",
      "y\n",
      " \n",
      "I\n",
      "r\n",
      "o\n",
      "n\n",
      " \n",
      "M\n",
      "a\n",
      "n\n"
     ]
    }
   ],
   "source": [
    "# Solucion\n",
    "cadena = input(\"Ingrese cadena: \")\n",
    "for caracter in cadena:\n",
    "    print(caracter)"
   ]
  },
  {
   "cell_type": "code",
   "execution_count": 16,
   "id": "345c060a",
   "metadata": {},
   "outputs": [
    {
     "data": {
      "text/plain": [
       "range(0, 5)"
      ]
     },
     "execution_count": 16,
     "metadata": {},
     "output_type": "execute_result"
    }
   ],
   "source": [
    "# Para generar rangos de números utilizamos range()\n",
    "range(5)\n",
    "#[0,5>"
   ]
  },
  {
   "cell_type": "code",
   "execution_count": 18,
   "id": "d16b7894",
   "metadata": {},
   "outputs": [
    {
     "name": "stdout",
     "output_type": "stream",
     "text": [
      "0\n",
      "1\n",
      "2\n",
      "3\n",
      "4\n",
      "5\n",
      "6\n",
      "7\n",
      "8\n",
      "9\n",
      "10\n"
     ]
    }
   ],
   "source": [
    "# Problema 02\n",
    "# Imprimir los números de 0 a 10, utilizando for\n",
    "for numero in range(0,11):\n",
    "    print(numero)"
   ]
  },
  {
   "cell_type": "code",
   "execution_count": 19,
   "id": "77ef5746",
   "metadata": {},
   "outputs": [
    {
     "name": "stdout",
     "output_type": "stream",
     "text": [
      "5\n",
      "6\n",
      "7\n",
      "8\n",
      "9\n",
      "10\n"
     ]
    }
   ],
   "source": [
    "# Problema 03\n",
    "# Imprimir los números de 5 a 10, utilizando for\n",
    "for numero in range(5,11):\n",
    "    print(numero)"
   ]
  },
  {
   "cell_type": "code",
   "execution_count": 22,
   "id": "a8a3da35",
   "metadata": {},
   "outputs": [
    {
     "name": "stdout",
     "output_type": "stream",
     "text": [
      "10\n",
      "12\n",
      "14\n",
      "16\n",
      "18\n",
      "20\n"
     ]
    }
   ],
   "source": [
    "# Problema 04\n",
    "# Imprimir los numeros de 10 a 20, utilizando for\n",
    "for numero in range(10,22,2):\n",
    "    print(numero)"
   ]
  },
  {
   "cell_type": "code",
   "execution_count": 23,
   "id": "8fa391b1",
   "metadata": {},
   "outputs": [
    {
     "name": "stdout",
     "output_type": "stream",
     "text": [
      "1\n",
      "2\n",
      "3\n",
      "4\n",
      "5\n",
      "6\n",
      "7\n",
      "8\n",
      "9\n",
      "10\n"
     ]
    }
   ],
   "source": [
    "# Ejemplo:\n",
    "numero = 1\n",
    "fin = 10\n",
    "while numero <= fin:\n",
    "    print(numero)\n",
    "    numero+=1"
   ]
  },
  {
   "cell_type": "code",
   "execution_count": null,
   "id": "9527c3a6",
   "metadata": {},
   "outputs": [],
   "source": []
  }
 ],
 "metadata": {
  "kernelspec": {
   "display_name": "Python 3 (ipykernel)",
   "language": "python",
   "name": "python3"
  },
  "language_info": {
   "codemirror_mode": {
    "name": "ipython",
    "version": 3
   },
   "file_extension": ".py",
   "mimetype": "text/x-python",
   "name": "python",
   "nbconvert_exporter": "python",
   "pygments_lexer": "ipython3",
   "version": "3.9.13"
  }
 },
 "nbformat": 4,
 "nbformat_minor": 5
}
